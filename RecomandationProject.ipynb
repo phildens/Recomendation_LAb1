{
 "cells": [
  {
   "cell_type": "code",
   "execution_count": 1,
   "metadata": {
    "collapsed": true,
    "pycharm": {
     "name": "#%%\n"
    }
   },
   "outputs": [],
   "source": [
    "import pandas as pd\n",
    "import numpy as np\n",
    "\n",
    "from sklearn.feature_extraction.text import TfidfVectorizer\n",
    "from sklearn.metrics.pairwise import cosine_similarity"
   ]
  },
  {
   "cell_type": "code",
   "execution_count": 18,
   "outputs": [],
   "source": [
    "movies = pd.read_csv(\"data/movies.dat\", sep=\"::\", engine=\"python\", encoding='latin-1', index_col=\"MovieID\")\n",
    "ratings = pd.read_csv(\"data/ratings.dat\", sep=\"::\", engine=\"python\", encoding='latin-1')\n"
   ],
   "metadata": {
    "collapsed": false,
    "pycharm": {
     "name": "#%%\n"
    }
   }
  },
  {
   "cell_type": "code",
   "execution_count": 19,
   "outputs": [
    {
     "data": {
      "text/plain": "                                      Title                        Genres\nMovieID                                                                  \n1                          Toy Story (1995)   Animation|Children's|Comedy\n2                            Jumanji (1995)  Adventure|Children's|Fantasy\n3                   Grumpier Old Men (1995)                Comedy|Romance\n4                  Waiting to Exhale (1995)                  Comedy|Drama\n5        Father of the Bride Part II (1995)                        Comedy\n...                                     ...                           ...\n3948                Meet the Parents (2000)                        Comedy\n3949             Requiem for a Dream (2000)                         Drama\n3950                       Tigerland (2000)                         Drama\n3951                Two Family House (2000)                         Drama\n3952                  Contender, The (2000)                Drama|Thriller\n\n[3883 rows x 2 columns]",
      "text/html": "<div>\n<style scoped>\n    .dataframe tbody tr th:only-of-type {\n        vertical-align: middle;\n    }\n\n    .dataframe tbody tr th {\n        vertical-align: top;\n    }\n\n    .dataframe thead th {\n        text-align: right;\n    }\n</style>\n<table border=\"1\" class=\"dataframe\">\n  <thead>\n    <tr style=\"text-align: right;\">\n      <th></th>\n      <th>Title</th>\n      <th>Genres</th>\n    </tr>\n    <tr>\n      <th>MovieID</th>\n      <th></th>\n      <th></th>\n    </tr>\n  </thead>\n  <tbody>\n    <tr>\n      <th>1</th>\n      <td>Toy Story (1995)</td>\n      <td>Animation|Children's|Comedy</td>\n    </tr>\n    <tr>\n      <th>2</th>\n      <td>Jumanji (1995)</td>\n      <td>Adventure|Children's|Fantasy</td>\n    </tr>\n    <tr>\n      <th>3</th>\n      <td>Grumpier Old Men (1995)</td>\n      <td>Comedy|Romance</td>\n    </tr>\n    <tr>\n      <th>4</th>\n      <td>Waiting to Exhale (1995)</td>\n      <td>Comedy|Drama</td>\n    </tr>\n    <tr>\n      <th>5</th>\n      <td>Father of the Bride Part II (1995)</td>\n      <td>Comedy</td>\n    </tr>\n    <tr>\n      <th>...</th>\n      <td>...</td>\n      <td>...</td>\n    </tr>\n    <tr>\n      <th>3948</th>\n      <td>Meet the Parents (2000)</td>\n      <td>Comedy</td>\n    </tr>\n    <tr>\n      <th>3949</th>\n      <td>Requiem for a Dream (2000)</td>\n      <td>Drama</td>\n    </tr>\n    <tr>\n      <th>3950</th>\n      <td>Tigerland (2000)</td>\n      <td>Drama</td>\n    </tr>\n    <tr>\n      <th>3951</th>\n      <td>Two Family House (2000)</td>\n      <td>Drama</td>\n    </tr>\n    <tr>\n      <th>3952</th>\n      <td>Contender, The (2000)</td>\n      <td>Drama|Thriller</td>\n    </tr>\n  </tbody>\n</table>\n<p>3883 rows × 2 columns</p>\n</div>"
     },
     "execution_count": 19,
     "metadata": {},
     "output_type": "execute_result"
    }
   ],
   "source": [
    "movies"
   ],
   "metadata": {
    "collapsed": false,
    "pycharm": {
     "name": "#%%\n"
    }
   }
  },
  {
   "cell_type": "code",
   "execution_count": 20,
   "outputs": [],
   "source": [
    "df = movies.merge(ratings, how=\"left\", on='MovieID')"
   ],
   "metadata": {
    "collapsed": false,
    "pycharm": {
     "name": "#%%\n"
    }
   }
  },
  {
   "cell_type": "code",
   "execution_count": 21,
   "outputs": [
    {
     "data": {
      "text/plain": "         MovieID                  Title                       Genres  UserID  \\\n0              1       Toy Story (1995)  Animation|Children's|Comedy     1.0   \n1              1       Toy Story (1995)  Animation|Children's|Comedy     6.0   \n2              1       Toy Story (1995)  Animation|Children's|Comedy     8.0   \n3              1       Toy Story (1995)  Animation|Children's|Comedy     9.0   \n4              1       Toy Story (1995)  Animation|Children's|Comedy    10.0   \n...          ...                    ...                          ...     ...   \n1000381     3952  Contender, The (2000)               Drama|Thriller  5812.0   \n1000382     3952  Contender, The (2000)               Drama|Thriller  5831.0   \n1000383     3952  Contender, The (2000)               Drama|Thriller  5837.0   \n1000384     3952  Contender, The (2000)               Drama|Thriller  5927.0   \n1000385     3952  Contender, The (2000)               Drama|Thriller  5998.0   \n\n         Rating     Timestamp  \n0           5.0  9.788243e+08  \n1           4.0  9.782370e+08  \n2           4.0  9.782335e+08  \n3           5.0  9.782260e+08  \n4           5.0  9.782265e+08  \n...         ...           ...  \n1000381     4.0  9.920721e+08  \n1000382     3.0  9.862231e+08  \n1000383     4.0  1.011903e+09  \n1000384     1.0  9.798525e+08  \n1000385     4.0  1.001781e+09  \n\n[1000386 rows x 6 columns]",
      "text/html": "<div>\n<style scoped>\n    .dataframe tbody tr th:only-of-type {\n        vertical-align: middle;\n    }\n\n    .dataframe tbody tr th {\n        vertical-align: top;\n    }\n\n    .dataframe thead th {\n        text-align: right;\n    }\n</style>\n<table border=\"1\" class=\"dataframe\">\n  <thead>\n    <tr style=\"text-align: right;\">\n      <th></th>\n      <th>MovieID</th>\n      <th>Title</th>\n      <th>Genres</th>\n      <th>UserID</th>\n      <th>Rating</th>\n      <th>Timestamp</th>\n    </tr>\n  </thead>\n  <tbody>\n    <tr>\n      <th>0</th>\n      <td>1</td>\n      <td>Toy Story (1995)</td>\n      <td>Animation|Children's|Comedy</td>\n      <td>1.0</td>\n      <td>5.0</td>\n      <td>9.788243e+08</td>\n    </tr>\n    <tr>\n      <th>1</th>\n      <td>1</td>\n      <td>Toy Story (1995)</td>\n      <td>Animation|Children's|Comedy</td>\n      <td>6.0</td>\n      <td>4.0</td>\n      <td>9.782370e+08</td>\n    </tr>\n    <tr>\n      <th>2</th>\n      <td>1</td>\n      <td>Toy Story (1995)</td>\n      <td>Animation|Children's|Comedy</td>\n      <td>8.0</td>\n      <td>4.0</td>\n      <td>9.782335e+08</td>\n    </tr>\n    <tr>\n      <th>3</th>\n      <td>1</td>\n      <td>Toy Story (1995)</td>\n      <td>Animation|Children's|Comedy</td>\n      <td>9.0</td>\n      <td>5.0</td>\n      <td>9.782260e+08</td>\n    </tr>\n    <tr>\n      <th>4</th>\n      <td>1</td>\n      <td>Toy Story (1995)</td>\n      <td>Animation|Children's|Comedy</td>\n      <td>10.0</td>\n      <td>5.0</td>\n      <td>9.782265e+08</td>\n    </tr>\n    <tr>\n      <th>...</th>\n      <td>...</td>\n      <td>...</td>\n      <td>...</td>\n      <td>...</td>\n      <td>...</td>\n      <td>...</td>\n    </tr>\n    <tr>\n      <th>1000381</th>\n      <td>3952</td>\n      <td>Contender, The (2000)</td>\n      <td>Drama|Thriller</td>\n      <td>5812.0</td>\n      <td>4.0</td>\n      <td>9.920721e+08</td>\n    </tr>\n    <tr>\n      <th>1000382</th>\n      <td>3952</td>\n      <td>Contender, The (2000)</td>\n      <td>Drama|Thriller</td>\n      <td>5831.0</td>\n      <td>3.0</td>\n      <td>9.862231e+08</td>\n    </tr>\n    <tr>\n      <th>1000383</th>\n      <td>3952</td>\n      <td>Contender, The (2000)</td>\n      <td>Drama|Thriller</td>\n      <td>5837.0</td>\n      <td>4.0</td>\n      <td>1.011903e+09</td>\n    </tr>\n    <tr>\n      <th>1000384</th>\n      <td>3952</td>\n      <td>Contender, The (2000)</td>\n      <td>Drama|Thriller</td>\n      <td>5927.0</td>\n      <td>1.0</td>\n      <td>9.798525e+08</td>\n    </tr>\n    <tr>\n      <th>1000385</th>\n      <td>3952</td>\n      <td>Contender, The (2000)</td>\n      <td>Drama|Thriller</td>\n      <td>5998.0</td>\n      <td>4.0</td>\n      <td>1.001781e+09</td>\n    </tr>\n  </tbody>\n</table>\n<p>1000386 rows × 6 columns</p>\n</div>"
     },
     "execution_count": 21,
     "metadata": {},
     "output_type": "execute_result"
    }
   ],
   "source": [
    "df"
   ],
   "metadata": {
    "collapsed": false,
    "pycharm": {
     "name": "#%%\n"
    }
   }
  },
  {
   "cell_type": "code",
   "execution_count": 31,
   "outputs": [],
   "source": [
    "comment_counts = pd.DataFrame(df[\"Title\"].value_counts())"
   ],
   "metadata": {
    "collapsed": false,
    "pycharm": {
     "name": "#%%\n"
    }
   }
  },
  {
   "cell_type": "code",
   "execution_count": 32,
   "outputs": [
    {
     "data": {
      "text/plain": "                                                    count\nTitle                                                    \nAmerican Beauty (1999)                               3428\nStar Wars: Episode IV - A New Hope (1977)            2991\nStar Wars: Episode V - The Empire Strikes Back ...   2990\nStar Wars: Episode VI - Return of the Jedi (1983)    2883\nJurassic Park (1993)                                 2672\nSaving Private Ryan (1998)                           2653\nTerminator 2: Judgment Day (1991)                    2649\nMatrix, The (1999)                                   2590\nBack to the Future (1985)                            2583\nSilence of the Lambs, The (1991)                     2578\nMen in Black (1997)                                  2538\nRaiders of the Lost Ark (1981)                       2514\nFargo (1996)                                         2513\nSixth Sense, The (1999)                              2459\nBraveheart (1995)                                    2443\nShakespeare in Love (1998)                           2369\nPrincess Bride, The (1987)                           2318\nSchindler's List (1993)                              2304\nL.A. Confidential (1997)                             2288\nGroundhog Day (1993)                                 2278",
      "text/html": "<div>\n<style scoped>\n    .dataframe tbody tr th:only-of-type {\n        vertical-align: middle;\n    }\n\n    .dataframe tbody tr th {\n        vertical-align: top;\n    }\n\n    .dataframe thead th {\n        text-align: right;\n    }\n</style>\n<table border=\"1\" class=\"dataframe\">\n  <thead>\n    <tr style=\"text-align: right;\">\n      <th></th>\n      <th>count</th>\n    </tr>\n    <tr>\n      <th>Title</th>\n      <th></th>\n    </tr>\n  </thead>\n  <tbody>\n    <tr>\n      <th>American Beauty (1999)</th>\n      <td>3428</td>\n    </tr>\n    <tr>\n      <th>Star Wars: Episode IV - A New Hope (1977)</th>\n      <td>2991</td>\n    </tr>\n    <tr>\n      <th>Star Wars: Episode V - The Empire Strikes Back (1980)</th>\n      <td>2990</td>\n    </tr>\n    <tr>\n      <th>Star Wars: Episode VI - Return of the Jedi (1983)</th>\n      <td>2883</td>\n    </tr>\n    <tr>\n      <th>Jurassic Park (1993)</th>\n      <td>2672</td>\n    </tr>\n    <tr>\n      <th>Saving Private Ryan (1998)</th>\n      <td>2653</td>\n    </tr>\n    <tr>\n      <th>Terminator 2: Judgment Day (1991)</th>\n      <td>2649</td>\n    </tr>\n    <tr>\n      <th>Matrix, The (1999)</th>\n      <td>2590</td>\n    </tr>\n    <tr>\n      <th>Back to the Future (1985)</th>\n      <td>2583</td>\n    </tr>\n    <tr>\n      <th>Silence of the Lambs, The (1991)</th>\n      <td>2578</td>\n    </tr>\n    <tr>\n      <th>Men in Black (1997)</th>\n      <td>2538</td>\n    </tr>\n    <tr>\n      <th>Raiders of the Lost Ark (1981)</th>\n      <td>2514</td>\n    </tr>\n    <tr>\n      <th>Fargo (1996)</th>\n      <td>2513</td>\n    </tr>\n    <tr>\n      <th>Sixth Sense, The (1999)</th>\n      <td>2459</td>\n    </tr>\n    <tr>\n      <th>Braveheart (1995)</th>\n      <td>2443</td>\n    </tr>\n    <tr>\n      <th>Shakespeare in Love (1998)</th>\n      <td>2369</td>\n    </tr>\n    <tr>\n      <th>Princess Bride, The (1987)</th>\n      <td>2318</td>\n    </tr>\n    <tr>\n      <th>Schindler's List (1993)</th>\n      <td>2304</td>\n    </tr>\n    <tr>\n      <th>L.A. Confidential (1997)</th>\n      <td>2288</td>\n    </tr>\n    <tr>\n      <th>Groundhog Day (1993)</th>\n      <td>2278</td>\n    </tr>\n  </tbody>\n</table>\n</div>"
     },
     "execution_count": 32,
     "metadata": {},
     "output_type": "execute_result"
    }
   ],
   "source": [
    "comment_counts.head(20)"
   ],
   "metadata": {
    "collapsed": false,
    "pycharm": {
     "name": "#%%\n"
    }
   }
  },
  {
   "cell_type": "code",
   "execution_count": 33,
   "outputs": [],
   "source": [
    "rare_movies = comment_counts[comment_counts[\"count\"] <= 70].index"
   ],
   "metadata": {
    "collapsed": false,
    "pycharm": {
     "name": "#%%\n"
    }
   }
  },
  {
   "cell_type": "code",
   "execution_count": 34,
   "outputs": [
    {
     "data": {
      "text/plain": "Index(['Braindead (1992)',\n       'Girl on the Bridge, The (La Fille sur le Pont) (1999)',\n       'Broken Hearts Club, The (2000)', 'Play it to the Bone (1999)',\n       'Governess, The (1998)', ''Night Mother (1986)', 'Carrington (1995)',\n       'Soldier's Daughter Never Cries, A (1998)',\n       'House of the Spirits, The (1993)', 'Repulsion (1965)',\n       ...\n       'Baton Rouge (1988)', 'Mascara (1999)', 'To Cross the Rubicon (1991)',\n       'Outside Ozona (1998)', 'Reach the Rock (1997)',\n       'Portraits Chinois (1996)', 'For Ever Mozart (1996)',\n       'Innocent Sleep, The (1995)', 'Mondo (1996)',\n       'Prince of Central Park, The (1999)'],\n      dtype='object', name='Title', length=1621)"
     },
     "execution_count": 34,
     "metadata": {},
     "output_type": "execute_result"
    }
   ],
   "source": [
    "rare_movies"
   ],
   "metadata": {
    "collapsed": false,
    "pycharm": {
     "name": "#%%\n"
    }
   }
  },
  {
   "cell_type": "code",
   "execution_count": 36,
   "outputs": [
    {
     "data": {
      "text/plain": "         MovieID                  Title                       Genres  UserID  \\\n0              1       Toy Story (1995)  Animation|Children's|Comedy     1.0   \n1              1       Toy Story (1995)  Animation|Children's|Comedy     6.0   \n2              1       Toy Story (1995)  Animation|Children's|Comedy     8.0   \n3              1       Toy Story (1995)  Animation|Children's|Comedy     9.0   \n4              1       Toy Story (1995)  Animation|Children's|Comedy    10.0   \n...          ...                    ...                          ...     ...   \n1000381     3952  Contender, The (2000)               Drama|Thriller  5812.0   \n1000382     3952  Contender, The (2000)               Drama|Thriller  5831.0   \n1000383     3952  Contender, The (2000)               Drama|Thriller  5837.0   \n1000384     3952  Contender, The (2000)               Drama|Thriller  5927.0   \n1000385     3952  Contender, The (2000)               Drama|Thriller  5998.0   \n\n         Rating     Timestamp  \n0           5.0  9.788243e+08  \n1           4.0  9.782370e+08  \n2           4.0  9.782335e+08  \n3           5.0  9.782260e+08  \n4           5.0  9.782265e+08  \n...         ...           ...  \n1000381     4.0  9.920721e+08  \n1000382     3.0  9.862231e+08  \n1000383     4.0  1.011903e+09  \n1000384     1.0  9.798525e+08  \n1000385     4.0  1.001781e+09  \n\n[962834 rows x 6 columns]",
      "text/html": "<div>\n<style scoped>\n    .dataframe tbody tr th:only-of-type {\n        vertical-align: middle;\n    }\n\n    .dataframe tbody tr th {\n        vertical-align: top;\n    }\n\n    .dataframe thead th {\n        text-align: right;\n    }\n</style>\n<table border=\"1\" class=\"dataframe\">\n  <thead>\n    <tr style=\"text-align: right;\">\n      <th></th>\n      <th>MovieID</th>\n      <th>Title</th>\n      <th>Genres</th>\n      <th>UserID</th>\n      <th>Rating</th>\n      <th>Timestamp</th>\n    </tr>\n  </thead>\n  <tbody>\n    <tr>\n      <th>0</th>\n      <td>1</td>\n      <td>Toy Story (1995)</td>\n      <td>Animation|Children's|Comedy</td>\n      <td>1.0</td>\n      <td>5.0</td>\n      <td>9.788243e+08</td>\n    </tr>\n    <tr>\n      <th>1</th>\n      <td>1</td>\n      <td>Toy Story (1995)</td>\n      <td>Animation|Children's|Comedy</td>\n      <td>6.0</td>\n      <td>4.0</td>\n      <td>9.782370e+08</td>\n    </tr>\n    <tr>\n      <th>2</th>\n      <td>1</td>\n      <td>Toy Story (1995)</td>\n      <td>Animation|Children's|Comedy</td>\n      <td>8.0</td>\n      <td>4.0</td>\n      <td>9.782335e+08</td>\n    </tr>\n    <tr>\n      <th>3</th>\n      <td>1</td>\n      <td>Toy Story (1995)</td>\n      <td>Animation|Children's|Comedy</td>\n      <td>9.0</td>\n      <td>5.0</td>\n      <td>9.782260e+08</td>\n    </tr>\n    <tr>\n      <th>4</th>\n      <td>1</td>\n      <td>Toy Story (1995)</td>\n      <td>Animation|Children's|Comedy</td>\n      <td>10.0</td>\n      <td>5.0</td>\n      <td>9.782265e+08</td>\n    </tr>\n    <tr>\n      <th>...</th>\n      <td>...</td>\n      <td>...</td>\n      <td>...</td>\n      <td>...</td>\n      <td>...</td>\n      <td>...</td>\n    </tr>\n    <tr>\n      <th>1000381</th>\n      <td>3952</td>\n      <td>Contender, The (2000)</td>\n      <td>Drama|Thriller</td>\n      <td>5812.0</td>\n      <td>4.0</td>\n      <td>9.920721e+08</td>\n    </tr>\n    <tr>\n      <th>1000382</th>\n      <td>3952</td>\n      <td>Contender, The (2000)</td>\n      <td>Drama|Thriller</td>\n      <td>5831.0</td>\n      <td>3.0</td>\n      <td>9.862231e+08</td>\n    </tr>\n    <tr>\n      <th>1000383</th>\n      <td>3952</td>\n      <td>Contender, The (2000)</td>\n      <td>Drama|Thriller</td>\n      <td>5837.0</td>\n      <td>4.0</td>\n      <td>1.011903e+09</td>\n    </tr>\n    <tr>\n      <th>1000384</th>\n      <td>3952</td>\n      <td>Contender, The (2000)</td>\n      <td>Drama|Thriller</td>\n      <td>5927.0</td>\n      <td>1.0</td>\n      <td>9.798525e+08</td>\n    </tr>\n    <tr>\n      <th>1000385</th>\n      <td>3952</td>\n      <td>Contender, The (2000)</td>\n      <td>Drama|Thriller</td>\n      <td>5998.0</td>\n      <td>4.0</td>\n      <td>1.001781e+09</td>\n    </tr>\n  </tbody>\n</table>\n<p>962834 rows × 6 columns</p>\n</div>"
     },
     "execution_count": 36,
     "metadata": {},
     "output_type": "execute_result"
    }
   ],
   "source": [
    "common_movies = df[~df[\"Title\"].isin(rare_movies)]\n",
    "common_movies"
   ],
   "metadata": {
    "collapsed": false,
    "pycharm": {
     "name": "#%%\n"
    }
   }
  },
  {
   "cell_type": "code",
   "execution_count": 39,
   "outputs": [],
   "source": [
    "user_movie_df = common_movies.pivot_table(index=[\"UserID\"], columns=[\"Title\"], values=\"Rating\")"
   ],
   "metadata": {
    "collapsed": false,
    "pycharm": {
     "name": "#%%\n"
    }
   }
  },
  {
   "cell_type": "code",
   "execution_count": 40,
   "outputs": [
    {
     "data": {
      "text/plain": "Title   'burbs, The (1989)  ...And Justice for All (1979)  \\\nUserID                                                      \n1.0                    NaN                            NaN   \n2.0                    NaN                            NaN   \n3.0                    NaN                            NaN   \n4.0                    NaN                            NaN   \n5.0                    NaN                            NaN   \n\nTitle   10 Things I Hate About You (1999)  101 Dalmatians (1961)  \\\nUserID                                                             \n1.0                                   NaN                    NaN   \n2.0                                   NaN                    NaN   \n3.0                                   NaN                    NaN   \n4.0                                   NaN                    NaN   \n5.0                                   NaN                    NaN   \n\nTitle   101 Dalmatians (1996)  12 Angry Men (1957)  13th Warrior, The (1999)  \\\nUserID                                                                         \n1.0                       NaN                  NaN                       NaN   \n2.0                       NaN                  NaN                       NaN   \n3.0                       NaN                  NaN                       NaN   \n4.0                       NaN                  NaN                       NaN   \n5.0                       NaN                  NaN                       NaN   \n\nTitle   2 Days in the Valley (1996)  20 Dates (1998)  \\\nUserID                                                 \n1.0                             NaN              NaN   \n2.0                             NaN              NaN   \n3.0                             NaN              NaN   \n4.0                             NaN              NaN   \n5.0                             NaN              NaN   \n\nTitle   20,000 Leagues Under the Sea (1954)  ...  You've Got Mail (1998)  \\\nUserID                                       ...                           \n1.0                                     NaN  ...                     NaN   \n2.0                                     NaN  ...                     NaN   \n3.0                                     NaN  ...                     NaN   \n4.0                                     NaN  ...                     NaN   \n5.0                                     NaN  ...                     NaN   \n\nTitle   Young Doctors in Love (1982)  Young Frankenstein (1974)  \\\nUserID                                                            \n1.0                              NaN                        NaN   \n2.0                              NaN                        NaN   \n3.0                              NaN                        NaN   \n4.0                              NaN                        NaN   \n5.0                              NaN                        NaN   \n\nTitle   Young Guns (1988)  Young Guns II (1990)  \\\nUserID                                            \n1.0                   NaN                   NaN   \n2.0                   NaN                   NaN   \n3.0                   5.0                   4.0   \n4.0                   NaN                   NaN   \n5.0                   NaN                   NaN   \n\nTitle   Young Poisoner's Handbook, The (1995)  Young Sherlock Holmes (1985)  \\\nUserID                                                                        \n1.0                                       NaN                           NaN   \n2.0                                       NaN                           NaN   \n3.0                                       NaN                           NaN   \n4.0                                       NaN                           NaN   \n5.0                                       NaN                           NaN   \n\nTitle   Your Friends and Neighbors (1998)  Zero Effect (1998)  eXistenZ (1999)  \nUserID                                                                          \n1.0                                   NaN                 NaN              NaN  \n2.0                                   NaN                 NaN              NaN  \n3.0                                   NaN                 NaN              NaN  \n4.0                                   NaN                 NaN              NaN  \n5.0                                   NaN                 NaN              NaN  \n\n[5 rows x 2262 columns]",
      "text/html": "<div>\n<style scoped>\n    .dataframe tbody tr th:only-of-type {\n        vertical-align: middle;\n    }\n\n    .dataframe tbody tr th {\n        vertical-align: top;\n    }\n\n    .dataframe thead th {\n        text-align: right;\n    }\n</style>\n<table border=\"1\" class=\"dataframe\">\n  <thead>\n    <tr style=\"text-align: right;\">\n      <th>Title</th>\n      <th>'burbs, The (1989)</th>\n      <th>...And Justice for All (1979)</th>\n      <th>10 Things I Hate About You (1999)</th>\n      <th>101 Dalmatians (1961)</th>\n      <th>101 Dalmatians (1996)</th>\n      <th>12 Angry Men (1957)</th>\n      <th>13th Warrior, The (1999)</th>\n      <th>2 Days in the Valley (1996)</th>\n      <th>20 Dates (1998)</th>\n      <th>20,000 Leagues Under the Sea (1954)</th>\n      <th>...</th>\n      <th>You've Got Mail (1998)</th>\n      <th>Young Doctors in Love (1982)</th>\n      <th>Young Frankenstein (1974)</th>\n      <th>Young Guns (1988)</th>\n      <th>Young Guns II (1990)</th>\n      <th>Young Poisoner's Handbook, The (1995)</th>\n      <th>Young Sherlock Holmes (1985)</th>\n      <th>Your Friends and Neighbors (1998)</th>\n      <th>Zero Effect (1998)</th>\n      <th>eXistenZ (1999)</th>\n    </tr>\n    <tr>\n      <th>UserID</th>\n      <th></th>\n      <th></th>\n      <th></th>\n      <th></th>\n      <th></th>\n      <th></th>\n      <th></th>\n      <th></th>\n      <th></th>\n      <th></th>\n      <th></th>\n      <th></th>\n      <th></th>\n      <th></th>\n      <th></th>\n      <th></th>\n      <th></th>\n      <th></th>\n      <th></th>\n      <th></th>\n      <th></th>\n    </tr>\n  </thead>\n  <tbody>\n    <tr>\n      <th>1.0</th>\n      <td>NaN</td>\n      <td>NaN</td>\n      <td>NaN</td>\n      <td>NaN</td>\n      <td>NaN</td>\n      <td>NaN</td>\n      <td>NaN</td>\n      <td>NaN</td>\n      <td>NaN</td>\n      <td>NaN</td>\n      <td>...</td>\n      <td>NaN</td>\n      <td>NaN</td>\n      <td>NaN</td>\n      <td>NaN</td>\n      <td>NaN</td>\n      <td>NaN</td>\n      <td>NaN</td>\n      <td>NaN</td>\n      <td>NaN</td>\n      <td>NaN</td>\n    </tr>\n    <tr>\n      <th>2.0</th>\n      <td>NaN</td>\n      <td>NaN</td>\n      <td>NaN</td>\n      <td>NaN</td>\n      <td>NaN</td>\n      <td>NaN</td>\n      <td>NaN</td>\n      <td>NaN</td>\n      <td>NaN</td>\n      <td>NaN</td>\n      <td>...</td>\n      <td>NaN</td>\n      <td>NaN</td>\n      <td>NaN</td>\n      <td>NaN</td>\n      <td>NaN</td>\n      <td>NaN</td>\n      <td>NaN</td>\n      <td>NaN</td>\n      <td>NaN</td>\n      <td>NaN</td>\n    </tr>\n    <tr>\n      <th>3.0</th>\n      <td>NaN</td>\n      <td>NaN</td>\n      <td>NaN</td>\n      <td>NaN</td>\n      <td>NaN</td>\n      <td>NaN</td>\n      <td>NaN</td>\n      <td>NaN</td>\n      <td>NaN</td>\n      <td>NaN</td>\n      <td>...</td>\n      <td>NaN</td>\n      <td>NaN</td>\n      <td>NaN</td>\n      <td>5.0</td>\n      <td>4.0</td>\n      <td>NaN</td>\n      <td>NaN</td>\n      <td>NaN</td>\n      <td>NaN</td>\n      <td>NaN</td>\n    </tr>\n    <tr>\n      <th>4.0</th>\n      <td>NaN</td>\n      <td>NaN</td>\n      <td>NaN</td>\n      <td>NaN</td>\n      <td>NaN</td>\n      <td>NaN</td>\n      <td>NaN</td>\n      <td>NaN</td>\n      <td>NaN</td>\n      <td>NaN</td>\n      <td>...</td>\n      <td>NaN</td>\n      <td>NaN</td>\n      <td>NaN</td>\n      <td>NaN</td>\n      <td>NaN</td>\n      <td>NaN</td>\n      <td>NaN</td>\n      <td>NaN</td>\n      <td>NaN</td>\n      <td>NaN</td>\n    </tr>\n    <tr>\n      <th>5.0</th>\n      <td>NaN</td>\n      <td>NaN</td>\n      <td>NaN</td>\n      <td>NaN</td>\n      <td>NaN</td>\n      <td>NaN</td>\n      <td>NaN</td>\n      <td>NaN</td>\n      <td>NaN</td>\n      <td>NaN</td>\n      <td>...</td>\n      <td>NaN</td>\n      <td>NaN</td>\n      <td>NaN</td>\n      <td>NaN</td>\n      <td>NaN</td>\n      <td>NaN</td>\n      <td>NaN</td>\n      <td>NaN</td>\n      <td>NaN</td>\n      <td>NaN</td>\n    </tr>\n  </tbody>\n</table>\n<p>5 rows × 2262 columns</p>\n</div>"
     },
     "execution_count": 40,
     "metadata": {},
     "output_type": "execute_result"
    }
   ],
   "source": [
    "user_movie_df.head()"
   ],
   "metadata": {
    "collapsed": false,
    "pycharm": {
     "name": "#%%\n"
    }
   }
  },
  {
   "cell_type": "code",
   "execution_count": 62,
   "outputs": [
    {
     "name": "stderr",
     "output_type": "stream",
     "text": [
      "C:\\Users\\user\\AppData\\Local\\Temp\\ipykernel_11368\\2105699470.py:1: DeprecationWarning: Conversion of an array with ndim > 0 to a scalar is deprecated, and will error in future. Ensure you extract a single element from your array before performing this operation. (Deprecated NumPy 1.25.)\n",
      "  random_user = int(pd.Series(user_movie_df.index).sample(1, random_state=47).values)\n"
     ]
    },
    {
     "data": {
      "text/plain": "5237"
     },
     "execution_count": 62,
     "metadata": {},
     "output_type": "execute_result"
    }
   ],
   "source": [
    "random_user = int(pd.Series(user_movie_df.index).sample(1, random_state=47).values)\n",
    "random_user"
   ],
   "metadata": {
    "collapsed": false,
    "pycharm": {
     "name": "#%%\n"
    }
   }
  },
  {
   "cell_type": "code",
   "execution_count": 63,
   "outputs": [
    {
     "data": {
      "text/plain": "2262"
     },
     "execution_count": 63,
     "metadata": {},
     "output_type": "execute_result"
    }
   ],
   "source": [
    "random_user_df = user_movie_df[user_movie_df.index == random_user]\n",
    "len(random_user_df.columns)"
   ],
   "metadata": {
    "collapsed": false,
    "pycharm": {
     "name": "#%%\n"
    }
   }
  },
  {
   "cell_type": "code",
   "execution_count": 64,
   "outputs": [
    {
     "data": {
      "text/plain": "55"
     },
     "execution_count": 64,
     "metadata": {},
     "output_type": "execute_result"
    }
   ],
   "source": [
    "movies_watched = random_user_df.columns[random_user_df.notna().any()].tolist()\n",
    "len(movies_watched)"
   ],
   "metadata": {
    "collapsed": false,
    "pycharm": {
     "name": "#%%\n"
    }
   }
  },
  {
   "cell_type": "code",
   "execution_count": 65,
   "outputs": [
    {
     "data": {
      "text/plain": "['Air Force One (1997)',\n 'Alien (1979)',\n 'Batman (1989)',\n 'Benny & Joon (1993)',\n 'Crocodile Dundee (1986)',\n 'Dances with Wolves (1990)',\n 'Die Hard (1988)',\n 'Easy Rider (1969)',\n 'Escape from New York (1981)',\n 'Eyes Wide Shut (1999)',\n \"Ferris Bueller's Day Off (1986)\",\n 'Fox and the Hound, The (1981)',\n 'Galaxy Quest (1999)',\n 'GoldenEye (1995)',\n 'Goldfinger (1964)',\n 'Good Will Hunting (1997)',\n 'Green Mile, The (1999)',\n 'Grumpy Old Men (1993)',\n 'Highlander (1986)',\n 'Indiana Jones and the Last Crusade (1989)',\n 'Indiana Jones and the Temple of Doom (1984)',\n 'Jaws (1975)',\n 'Jurassic Park (1993)',\n 'King Kong (1933)',\n 'Last of the Mohicans, The (1992)',\n 'Liar Liar (1997)',\n 'Lost World: Jurassic Park, The (1997)',\n 'Mad Max (1979)',\n 'Mission: Impossible (1996)',\n 'Monty Python and the Holy Grail (1974)',\n 'Mummy, The (1999)',\n 'Pelican Brief, The (1993)',\n 'Predator (1987)',\n 'Raiders of the Lost Ark (1981)',\n 'Rock, The (1996)',\n 'Rocky (1976)',\n 'Romancing the Stone (1984)',\n 'Santa Claus: The Movie (1985)',\n 'Shanghai Noon (2000)',\n 'Sixth Sense, The (1999)',\n 'Some Like It Hot (1959)',\n 'Stand by Me (1986)',\n 'Star Wars: Episode I - The Phantom Menace (1999)',\n 'Star Wars: Episode IV - A New Hope (1977)',\n 'Star Wars: Episode V - The Empire Strikes Back (1980)',\n 'Star Wars: Episode VI - Return of the Jedi (1983)',\n 'Superman (1978)',\n 'Superman II (1980)',\n 'Terminator 2: Judgment Day (1991)',\n 'Terminator, The (1984)',\n 'Total Recall (1990)',\n 'Toy Story 2 (1999)',\n 'True Lies (1994)',\n 'Who Framed Roger Rabbit? (1988)',\n 'Wizard of Oz, The (1939)']"
     },
     "execution_count": 65,
     "metadata": {},
     "output_type": "execute_result"
    }
   ],
   "source": [
    "movies_watched"
   ],
   "metadata": {
    "collapsed": false,
    "pycharm": {
     "name": "#%%\n"
    }
   }
  },
  {
   "cell_type": "code",
   "execution_count": 66,
   "outputs": [],
   "source": [
    "movies_watched_df = user_movie_df[movies_watched]\n"
   ],
   "metadata": {
    "collapsed": false,
    "pycharm": {
     "name": "#%%\n"
    }
   }
  },
  {
   "cell_type": "code",
   "execution_count": 67,
   "outputs": [
    {
     "data": {
      "text/plain": "UserID\n1.0        5\n2.0       15\n3.0       16\n4.0       14\n5.0        8\n          ..\n6036.0    34\n6037.0    15\n6038.0     3\n6039.0     4\n6040.0    21\nLength: 6040, dtype: int64"
     },
     "execution_count": 67,
     "metadata": {},
     "output_type": "execute_result"
    }
   ],
   "source": [
    "user_movie_count = movies_watched_df.T.notnull().sum()\n",
    "user_movie_count"
   ],
   "metadata": {
    "collapsed": false,
    "pycharm": {
     "name": "#%%\n"
    }
   }
  },
  {
   "cell_type": "code",
   "execution_count": 68,
   "outputs": [
    {
     "data": {
      "text/plain": "      UserID   0\n0        1.0   5\n1        2.0  15\n2        3.0  16\n3        4.0  14\n4        5.0   8\n...      ...  ..\n6035  6036.0  34\n6036  6037.0  15\n6037  6038.0   3\n6038  6039.0   4\n6039  6040.0  21\n\n[6040 rows x 2 columns]",
      "text/html": "<div>\n<style scoped>\n    .dataframe tbody tr th:only-of-type {\n        vertical-align: middle;\n    }\n\n    .dataframe tbody tr th {\n        vertical-align: top;\n    }\n\n    .dataframe thead th {\n        text-align: right;\n    }\n</style>\n<table border=\"1\" class=\"dataframe\">\n  <thead>\n    <tr style=\"text-align: right;\">\n      <th></th>\n      <th>UserID</th>\n      <th>0</th>\n    </tr>\n  </thead>\n  <tbody>\n    <tr>\n      <th>0</th>\n      <td>1.0</td>\n      <td>5</td>\n    </tr>\n    <tr>\n      <th>1</th>\n      <td>2.0</td>\n      <td>15</td>\n    </tr>\n    <tr>\n      <th>2</th>\n      <td>3.0</td>\n      <td>16</td>\n    </tr>\n    <tr>\n      <th>3</th>\n      <td>4.0</td>\n      <td>14</td>\n    </tr>\n    <tr>\n      <th>4</th>\n      <td>5.0</td>\n      <td>8</td>\n    </tr>\n    <tr>\n      <th>...</th>\n      <td>...</td>\n      <td>...</td>\n    </tr>\n    <tr>\n      <th>6035</th>\n      <td>6036.0</td>\n      <td>34</td>\n    </tr>\n    <tr>\n      <th>6036</th>\n      <td>6037.0</td>\n      <td>15</td>\n    </tr>\n    <tr>\n      <th>6037</th>\n      <td>6038.0</td>\n      <td>3</td>\n    </tr>\n    <tr>\n      <th>6038</th>\n      <td>6039.0</td>\n      <td>4</td>\n    </tr>\n    <tr>\n      <th>6039</th>\n      <td>6040.0</td>\n      <td>21</td>\n    </tr>\n  </tbody>\n</table>\n<p>6040 rows × 2 columns</p>\n</div>"
     },
     "execution_count": 68,
     "metadata": {},
     "output_type": "execute_result"
    }
   ],
   "source": [
    "user_movie_count = user_movie_count.reset_index()\n",
    "user_movie_count"
   ],
   "metadata": {
    "collapsed": false,
    "pycharm": {
     "name": "#%%\n"
    }
   }
  },
  {
   "cell_type": "code",
   "execution_count": 69,
   "outputs": [
    {
     "data": {
      "text/plain": "      userId  movie_count\n0        1.0            5\n1        2.0           15\n2        3.0           16\n3        4.0           14\n4        5.0            8\n...      ...          ...\n6035  6036.0           34\n6036  6037.0           15\n6037  6038.0            3\n6038  6039.0            4\n6039  6040.0           21\n\n[6040 rows x 2 columns]",
      "text/html": "<div>\n<style scoped>\n    .dataframe tbody tr th:only-of-type {\n        vertical-align: middle;\n    }\n\n    .dataframe tbody tr th {\n        vertical-align: top;\n    }\n\n    .dataframe thead th {\n        text-align: right;\n    }\n</style>\n<table border=\"1\" class=\"dataframe\">\n  <thead>\n    <tr style=\"text-align: right;\">\n      <th></th>\n      <th>userId</th>\n      <th>movie_count</th>\n    </tr>\n  </thead>\n  <tbody>\n    <tr>\n      <th>0</th>\n      <td>1.0</td>\n      <td>5</td>\n    </tr>\n    <tr>\n      <th>1</th>\n      <td>2.0</td>\n      <td>15</td>\n    </tr>\n    <tr>\n      <th>2</th>\n      <td>3.0</td>\n      <td>16</td>\n    </tr>\n    <tr>\n      <th>3</th>\n      <td>4.0</td>\n      <td>14</td>\n    </tr>\n    <tr>\n      <th>4</th>\n      <td>5.0</td>\n      <td>8</td>\n    </tr>\n    <tr>\n      <th>...</th>\n      <td>...</td>\n      <td>...</td>\n    </tr>\n    <tr>\n      <th>6035</th>\n      <td>6036.0</td>\n      <td>34</td>\n    </tr>\n    <tr>\n      <th>6036</th>\n      <td>6037.0</td>\n      <td>15</td>\n    </tr>\n    <tr>\n      <th>6037</th>\n      <td>6038.0</td>\n      <td>3</td>\n    </tr>\n    <tr>\n      <th>6038</th>\n      <td>6039.0</td>\n      <td>4</td>\n    </tr>\n    <tr>\n      <th>6039</th>\n      <td>6040.0</td>\n      <td>21</td>\n    </tr>\n  </tbody>\n</table>\n<p>6040 rows × 2 columns</p>\n</div>"
     },
     "execution_count": 69,
     "metadata": {},
     "output_type": "execute_result"
    }
   ],
   "source": [
    "user_movie_count.columns = [\"userId\", \"movie_count\"]\n",
    "user_movie_count"
   ],
   "metadata": {
    "collapsed": false,
    "pycharm": {
     "name": "#%%\n"
    }
   }
  },
  {
   "cell_type": "code",
   "execution_count": 70,
   "outputs": [
    {
     "data": {
      "text/plain": "      userId  movie_count\n5366  5367.0           55\n5236  5237.0           55\n1940  1941.0           54\n5830  5831.0           54\n2908  2909.0           52\n5794  5795.0           52\n1448  1449.0           52\n1180  1181.0           52\n4168  4169.0           52\n1446  1447.0           51\n3649  3650.0           51\n4447  4448.0           51\n168    169.0           51\n4424  4425.0           50\n1679  1680.0           50\n3625  3626.0           50\n3162  3163.0           50\n2062  2063.0           50\n4385  4386.0           50\n769    770.0           50",
      "text/html": "<div>\n<style scoped>\n    .dataframe tbody tr th:only-of-type {\n        vertical-align: middle;\n    }\n\n    .dataframe tbody tr th {\n        vertical-align: top;\n    }\n\n    .dataframe thead th {\n        text-align: right;\n    }\n</style>\n<table border=\"1\" class=\"dataframe\">\n  <thead>\n    <tr style=\"text-align: right;\">\n      <th></th>\n      <th>userId</th>\n      <th>movie_count</th>\n    </tr>\n  </thead>\n  <tbody>\n    <tr>\n      <th>5366</th>\n      <td>5367.0</td>\n      <td>55</td>\n    </tr>\n    <tr>\n      <th>5236</th>\n      <td>5237.0</td>\n      <td>55</td>\n    </tr>\n    <tr>\n      <th>1940</th>\n      <td>1941.0</td>\n      <td>54</td>\n    </tr>\n    <tr>\n      <th>5830</th>\n      <td>5831.0</td>\n      <td>54</td>\n    </tr>\n    <tr>\n      <th>2908</th>\n      <td>2909.0</td>\n      <td>52</td>\n    </tr>\n    <tr>\n      <th>5794</th>\n      <td>5795.0</td>\n      <td>52</td>\n    </tr>\n    <tr>\n      <th>1448</th>\n      <td>1449.0</td>\n      <td>52</td>\n    </tr>\n    <tr>\n      <th>1180</th>\n      <td>1181.0</td>\n      <td>52</td>\n    </tr>\n    <tr>\n      <th>4168</th>\n      <td>4169.0</td>\n      <td>52</td>\n    </tr>\n    <tr>\n      <th>1446</th>\n      <td>1447.0</td>\n      <td>51</td>\n    </tr>\n    <tr>\n      <th>3649</th>\n      <td>3650.0</td>\n      <td>51</td>\n    </tr>\n    <tr>\n      <th>4447</th>\n      <td>4448.0</td>\n      <td>51</td>\n    </tr>\n    <tr>\n      <th>168</th>\n      <td>169.0</td>\n      <td>51</td>\n    </tr>\n    <tr>\n      <th>4424</th>\n      <td>4425.0</td>\n      <td>50</td>\n    </tr>\n    <tr>\n      <th>1679</th>\n      <td>1680.0</td>\n      <td>50</td>\n    </tr>\n    <tr>\n      <th>3625</th>\n      <td>3626.0</td>\n      <td>50</td>\n    </tr>\n    <tr>\n      <th>3162</th>\n      <td>3163.0</td>\n      <td>50</td>\n    </tr>\n    <tr>\n      <th>2062</th>\n      <td>2063.0</td>\n      <td>50</td>\n    </tr>\n    <tr>\n      <th>4385</th>\n      <td>4386.0</td>\n      <td>50</td>\n    </tr>\n    <tr>\n      <th>769</th>\n      <td>770.0</td>\n      <td>50</td>\n    </tr>\n  </tbody>\n</table>\n</div>"
     },
     "execution_count": 70,
     "metadata": {},
     "output_type": "execute_result"
    }
   ],
   "source": [
    "user_movie_count[user_movie_count[\"movie_count\"] > 20].sort_values(\"movie_count\", ascending=False).head(20)"
   ],
   "metadata": {
    "collapsed": false,
    "pycharm": {
     "name": "#%%\n"
    }
   }
  },
  {
   "cell_type": "code",
   "execution_count": 71,
   "outputs": [
    {
     "data": {
      "text/plain": "userId         2\nmovie_count    2\ndtype: int64"
     },
     "execution_count": 71,
     "metadata": {},
     "output_type": "execute_result"
    }
   ],
   "source": [
    "user_movie_count[user_movie_count[\"movie_count\"] == 55].count()"
   ],
   "metadata": {
    "collapsed": false,
    "pycharm": {
     "name": "#%%\n"
    }
   }
  },
  {
   "cell_type": "code",
   "execution_count": 72,
   "outputs": [
    {
     "data": {
      "text/plain": "9     10.0\n12    13.0\n17    18.0\n18    19.0\n21    22.0\nName: userId, dtype: float64"
     },
     "execution_count": 72,
     "metadata": {},
     "output_type": "execute_result"
    }
   ],
   "source": [
    "users_same_movies = user_movie_count[user_movie_count[\"movie_count\"] > 20][\"userId\"]\n",
    "users_same_movies.head()"
   ],
   "metadata": {
    "collapsed": false,
    "pycharm": {
     "name": "#%%\n"
    }
   }
  },
  {
   "cell_type": "code",
   "execution_count": 73,
   "outputs": [
    {
     "data": {
      "text/plain": "9     10.0\n12    13.0\n17    18.0\n18    19.0\n21    22.0\nName: userId, dtype: float64"
     },
     "execution_count": 73,
     "metadata": {},
     "output_type": "execute_result"
    }
   ],
   "source": [
    "users_same_movies = user_movie_count[user_movie_count[\"movie_count\"] > 20][\"userId\"]\n",
    "users_same_movies.head()"
   ],
   "metadata": {
    "collapsed": false,
    "pycharm": {
     "name": "#%%\n"
    }
   }
  },
  {
   "cell_type": "code",
   "execution_count": 74,
   "outputs": [
    {
     "data": {
      "text/plain": "Title   Air Force One (1997)  Alien (1979)  Batman (1989)  \\\nUserID                                                      \n10.0                     NaN           4.0            4.0   \n13.0                     NaN           NaN            3.0   \n18.0                     NaN           NaN            4.0   \n19.0                     3.0           2.0            4.0   \n22.0                     1.0           4.0            2.0   \n\nTitle   Benny & Joon (1993)  Crocodile Dundee (1986)  \\\nUserID                                                 \n10.0                    5.0                      5.0   \n13.0                    NaN                      3.0   \n18.0                    NaN                      3.0   \n19.0                    NaN                      NaN   \n22.0                    2.0                      2.0   \n\nTitle   Dances with Wolves (1990)  Die Hard (1988)  Easy Rider (1969)  \\\nUserID                                                                  \n10.0                          5.0              NaN                NaN   \n13.0                          4.0              NaN                NaN   \n18.0                          4.0              3.0                NaN   \n19.0                          NaN              5.0                NaN   \n22.0                          NaN              4.0                NaN   \n\nTitle   Escape from New York (1981)  Eyes Wide Shut (1999)  ...  \\\nUserID                                                      ...   \n10.0                            4.0                    NaN  ...   \n13.0                            3.0                    NaN  ...   \n18.0                            NaN                    NaN  ...   \n19.0                            NaN                    NaN  ...   \n22.0                            NaN                    NaN  ...   \n\nTitle   Star Wars: Episode VI - Return of the Jedi (1983)  Superman (1978)  \\\nUserID                                                                       \n10.0                                                  4.0              5.0   \n13.0                                                  4.0              3.0   \n18.0                                                  5.0              NaN   \n19.0                                                  4.0              3.0   \n22.0                                                  3.0              NaN   \n\nTitle   Superman II (1980)  Terminator 2: Judgment Day (1991)  \\\nUserID                                                          \n10.0                   NaN                                4.0   \n13.0                   3.0                                5.0   \n18.0                   NaN                                5.0   \n19.0                   NaN                                4.0   \n22.0                   NaN                                4.0   \n\nTitle   Terminator, The (1984)  Total Recall (1990)  Toy Story 2 (1999)  \\\nUserID                                                                    \n10.0                       5.0                  NaN                 4.0   \n13.0                       NaN                  3.0                 NaN   \n18.0                       5.0                  3.0                 NaN   \n19.0                       3.0                  NaN                 4.0   \n22.0                       4.0                  4.0                 NaN   \n\nTitle   True Lies (1994)  Who Framed Roger Rabbit? (1988)  \\\nUserID                                                      \n10.0                 NaN                              NaN   \n13.0                 3.0                              3.0   \n18.0                 3.0                              5.0   \n19.0                 4.0                              4.0   \n22.0                 4.0                              4.0   \n\nTitle   Wizard of Oz, The (1939)  \nUserID                            \n10.0                         5.0  \n13.0                         4.0  \n18.0                         5.0  \n19.0                         4.0  \n22.0                         3.0  \n\n[5 rows x 55 columns]",
      "text/html": "<div>\n<style scoped>\n    .dataframe tbody tr th:only-of-type {\n        vertical-align: middle;\n    }\n\n    .dataframe tbody tr th {\n        vertical-align: top;\n    }\n\n    .dataframe thead th {\n        text-align: right;\n    }\n</style>\n<table border=\"1\" class=\"dataframe\">\n  <thead>\n    <tr style=\"text-align: right;\">\n      <th>Title</th>\n      <th>Air Force One (1997)</th>\n      <th>Alien (1979)</th>\n      <th>Batman (1989)</th>\n      <th>Benny &amp; Joon (1993)</th>\n      <th>Crocodile Dundee (1986)</th>\n      <th>Dances with Wolves (1990)</th>\n      <th>Die Hard (1988)</th>\n      <th>Easy Rider (1969)</th>\n      <th>Escape from New York (1981)</th>\n      <th>Eyes Wide Shut (1999)</th>\n      <th>...</th>\n      <th>Star Wars: Episode VI - Return of the Jedi (1983)</th>\n      <th>Superman (1978)</th>\n      <th>Superman II (1980)</th>\n      <th>Terminator 2: Judgment Day (1991)</th>\n      <th>Terminator, The (1984)</th>\n      <th>Total Recall (1990)</th>\n      <th>Toy Story 2 (1999)</th>\n      <th>True Lies (1994)</th>\n      <th>Who Framed Roger Rabbit? (1988)</th>\n      <th>Wizard of Oz, The (1939)</th>\n    </tr>\n    <tr>\n      <th>UserID</th>\n      <th></th>\n      <th></th>\n      <th></th>\n      <th></th>\n      <th></th>\n      <th></th>\n      <th></th>\n      <th></th>\n      <th></th>\n      <th></th>\n      <th></th>\n      <th></th>\n      <th></th>\n      <th></th>\n      <th></th>\n      <th></th>\n      <th></th>\n      <th></th>\n      <th></th>\n      <th></th>\n      <th></th>\n    </tr>\n  </thead>\n  <tbody>\n    <tr>\n      <th>10.0</th>\n      <td>NaN</td>\n      <td>4.0</td>\n      <td>4.0</td>\n      <td>5.0</td>\n      <td>5.0</td>\n      <td>5.0</td>\n      <td>NaN</td>\n      <td>NaN</td>\n      <td>4.0</td>\n      <td>NaN</td>\n      <td>...</td>\n      <td>4.0</td>\n      <td>5.0</td>\n      <td>NaN</td>\n      <td>4.0</td>\n      <td>5.0</td>\n      <td>NaN</td>\n      <td>4.0</td>\n      <td>NaN</td>\n      <td>NaN</td>\n      <td>5.0</td>\n    </tr>\n    <tr>\n      <th>13.0</th>\n      <td>NaN</td>\n      <td>NaN</td>\n      <td>3.0</td>\n      <td>NaN</td>\n      <td>3.0</td>\n      <td>4.0</td>\n      <td>NaN</td>\n      <td>NaN</td>\n      <td>3.0</td>\n      <td>NaN</td>\n      <td>...</td>\n      <td>4.0</td>\n      <td>3.0</td>\n      <td>3.0</td>\n      <td>5.0</td>\n      <td>NaN</td>\n      <td>3.0</td>\n      <td>NaN</td>\n      <td>3.0</td>\n      <td>3.0</td>\n      <td>4.0</td>\n    </tr>\n    <tr>\n      <th>18.0</th>\n      <td>NaN</td>\n      <td>NaN</td>\n      <td>4.0</td>\n      <td>NaN</td>\n      <td>3.0</td>\n      <td>4.0</td>\n      <td>3.0</td>\n      <td>NaN</td>\n      <td>NaN</td>\n      <td>NaN</td>\n      <td>...</td>\n      <td>5.0</td>\n      <td>NaN</td>\n      <td>NaN</td>\n      <td>5.0</td>\n      <td>5.0</td>\n      <td>3.0</td>\n      <td>NaN</td>\n      <td>3.0</td>\n      <td>5.0</td>\n      <td>5.0</td>\n    </tr>\n    <tr>\n      <th>19.0</th>\n      <td>3.0</td>\n      <td>2.0</td>\n      <td>4.0</td>\n      <td>NaN</td>\n      <td>NaN</td>\n      <td>NaN</td>\n      <td>5.0</td>\n      <td>NaN</td>\n      <td>NaN</td>\n      <td>NaN</td>\n      <td>...</td>\n      <td>4.0</td>\n      <td>3.0</td>\n      <td>NaN</td>\n      <td>4.0</td>\n      <td>3.0</td>\n      <td>NaN</td>\n      <td>4.0</td>\n      <td>4.0</td>\n      <td>4.0</td>\n      <td>4.0</td>\n    </tr>\n    <tr>\n      <th>22.0</th>\n      <td>1.0</td>\n      <td>4.0</td>\n      <td>2.0</td>\n      <td>2.0</td>\n      <td>2.0</td>\n      <td>NaN</td>\n      <td>4.0</td>\n      <td>NaN</td>\n      <td>NaN</td>\n      <td>NaN</td>\n      <td>...</td>\n      <td>3.0</td>\n      <td>NaN</td>\n      <td>NaN</td>\n      <td>4.0</td>\n      <td>4.0</td>\n      <td>4.0</td>\n      <td>NaN</td>\n      <td>4.0</td>\n      <td>4.0</td>\n      <td>3.0</td>\n    </tr>\n  </tbody>\n</table>\n<p>5 rows × 55 columns</p>\n</div>"
     },
     "execution_count": 74,
     "metadata": {},
     "output_type": "execute_result"
    }
   ],
   "source": [
    "final_df = pd.concat([movies_watched_df[movies_watched_df.index.isin(users_same_movies)],\n",
    "                      random_user_df[movies_watched]])\n",
    "final_df.head()"
   ],
   "metadata": {
    "collapsed": false,
    "pycharm": {
     "name": "#%%\n"
    }
   }
  },
  {
   "cell_type": "code",
   "execution_count": 77,
   "outputs": [],
   "source": [
    "corr_df = final_df.drop_duplicates().T.corr().unstack().sort_values()"
   ],
   "metadata": {
    "collapsed": false,
    "pycharm": {
     "name": "#%%\n"
    }
   }
  },
  {
   "cell_type": "code",
   "execution_count": 78,
   "outputs": [
    {
     "data": {
      "text/plain": "UserID  UserID\n4819.0  713.0    -1.0\n713.0   4819.0   -1.0\n4373.0  575.0    -1.0\n2380.0  808.0    -1.0\n669.0   2943.0   -1.0\n                 ... \n6040.0  272.0     NaN\n        1132.0    NaN\n        1835.0    NaN\n        3414.0    NaN\n        3902.0    NaN\nLength: 1833316, dtype: float64"
     },
     "execution_count": 78,
     "metadata": {},
     "output_type": "execute_result"
    }
   ],
   "source": [
    "corr_df"
   ],
   "metadata": {
    "collapsed": false,
    "pycharm": {
     "name": "#%%\n"
    }
   }
  },
  {
   "cell_type": "code",
   "execution_count": null,
   "outputs": [],
   "source": [
    "corr_df = pd.DataFrame(corr_df, columns=[\"corr\"])"
   ],
   "metadata": {
    "collapsed": false,
    "pycharm": {
     "name": "#%%\n"
    }
   }
  }
 ],
 "metadata": {
  "kernelspec": {
   "display_name": "Python 3",
   "language": "python",
   "name": "python3"
  },
  "language_info": {
   "codemirror_mode": {
    "name": "ipython",
    "version": 2
   },
   "file_extension": ".py",
   "mimetype": "text/x-python",
   "name": "python",
   "nbconvert_exporter": "python",
   "pygments_lexer": "ipython2",
   "version": "2.7.6"
  }
 },
 "nbformat": 4,
 "nbformat_minor": 0
}